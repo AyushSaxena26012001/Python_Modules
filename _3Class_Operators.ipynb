{
 "cells": [
  {
   "cell_type": "markdown",
   "id": "76e0a449-4767-489b-ad42-a4db017e7178",
   "metadata": {},
   "source": [
    "# Python Operators\n",
    "- Special keywords or symbol that are used to perform some operation on values or variables.\n",
    "-  Why? Beacuse we want to manage, do computation and make decision using data."
   ]
  },
  {
   "cell_type": "markdown",
   "id": "bc1190cc-2674-4eca-972c-8284d75b1bb9",
   "metadata": {},
   "source": [
    "# Airthmatic Operators"
   ]
  },
  {
   "cell_type": "code",
   "execution_count": 1,
   "id": "caf85b54-f748-4b4e-a00b-a1b5f93d120f",
   "metadata": {},
   "outputs": [],
   "source": [
    "a=3\n",
    "b=2\n"
   ]
  },
  {
   "cell_type": "code",
   "execution_count": 2,
   "id": "c835c456-6853-4fcc-914b-78c921905d27",
   "metadata": {},
   "outputs": [
    {
     "data": {
      "text/plain": [
       "5"
      ]
     },
     "execution_count": 2,
     "metadata": {},
     "output_type": "execute_result"
    }
   ],
   "source": [
    "a+b"
   ]
  },
  {
   "cell_type": "code",
   "execution_count": 3,
   "id": "1493a85a-5523-40e4-af02-ef601f485ccd",
   "metadata": {},
   "outputs": [
    {
     "data": {
      "text/plain": [
       "1"
      ]
     },
     "execution_count": 3,
     "metadata": {},
     "output_type": "execute_result"
    }
   ],
   "source": [
    "a-b"
   ]
  },
  {
   "cell_type": "code",
   "execution_count": 4,
   "id": "1bf0f483-fe03-49e1-98d8-63f771f2051e",
   "metadata": {},
   "outputs": [
    {
     "data": {
      "text/plain": [
       "6"
      ]
     },
     "execution_count": 4,
     "metadata": {},
     "output_type": "execute_result"
    }
   ],
   "source": [
    "a*b"
   ]
  },
  {
   "cell_type": "code",
   "execution_count": 5,
   "id": "3beec81b-504d-47f4-b1d4-cb0aad665b7e",
   "metadata": {},
   "outputs": [
    {
     "data": {
      "text/plain": [
       "1.5"
      ]
     },
     "execution_count": 5,
     "metadata": {},
     "output_type": "execute_result"
    }
   ],
   "source": [
    "a/b"
   ]
  },
  {
   "cell_type": "code",
   "execution_count": 6,
   "id": "b7f2d7d6-f41b-4d39-b84d-6e2a0270885a",
   "metadata": {},
   "outputs": [
    {
     "data": {
      "text/plain": [
       "1"
      ]
     },
     "execution_count": 6,
     "metadata": {},
     "output_type": "execute_result"
    }
   ],
   "source": [
    "a%b # Modulus opertor\n"
   ]
  },
  {
   "cell_type": "code",
   "execution_count": 7,
   "id": "7ed34bd9-1a13-465c-882b-8b2faf00fbaf",
   "metadata": {},
   "outputs": [
    {
     "data": {
      "text/plain": [
       "8"
      ]
     },
     "execution_count": 7,
     "metadata": {},
     "output_type": "execute_result"
    }
   ],
   "source": [
    "2**3 # Expo"
   ]
  },
  {
   "cell_type": "code",
   "execution_count": 8,
   "id": "9b55e0e1-d9b4-4567-b212-fad6da847103",
   "metadata": {},
   "outputs": [
    {
     "data": {
      "text/plain": [
       "1.3333333333333333"
      ]
     },
     "execution_count": 8,
     "metadata": {},
     "output_type": "execute_result"
    }
   ],
   "source": [
    "#Floor Operator\n",
    "4/3"
   ]
  },
  {
   "cell_type": "code",
   "execution_count": 9,
   "id": "cb4a9968-8f8b-4904-89f9-5cdd8b8bd89f",
   "metadata": {},
   "outputs": [
    {
     "data": {
      "text/plain": [
       "1"
      ]
     },
     "execution_count": 9,
     "metadata": {},
     "output_type": "execute_result"
    }
   ],
   "source": [
    "4//3"
   ]
  },
  {
   "cell_type": "markdown",
   "id": "76fef7e2-ffce-45fa-aa3e-22b421c0b333",
   "metadata": {},
   "source": [
    "# Comparision Operator\n",
    "- Compare two values and return a boolean value"
   ]
  },
  {
   "cell_type": "code",
   "execution_count": 10,
   "id": "2ff2438b-3c17-449f-9050-0ba1a7156695",
   "metadata": {},
   "outputs": [
    {
     "data": {
      "text/plain": [
       "True"
      ]
     },
     "execution_count": 10,
     "metadata": {},
     "output_type": "execute_result"
    }
   ],
   "source": [
    "2==2"
   ]
  },
  {
   "cell_type": "code",
   "execution_count": 11,
   "id": "a591dbbc-0aaa-446e-b6b7-d0f66119f9f0",
   "metadata": {},
   "outputs": [
    {
     "data": {
      "text/plain": [
       "False"
      ]
     },
     "execution_count": 11,
     "metadata": {},
     "output_type": "execute_result"
    }
   ],
   "source": [
    "2!=2"
   ]
  },
  {
   "cell_type": "code",
   "execution_count": 12,
   "id": "03c77edf-7167-4519-8287-a6b8e22e5398",
   "metadata": {},
   "outputs": [
    {
     "data": {
      "text/plain": [
       "True"
      ]
     },
     "execution_count": 12,
     "metadata": {},
     "output_type": "execute_result"
    }
   ],
   "source": [
    "2!=5"
   ]
  },
  {
   "cell_type": "code",
   "execution_count": 13,
   "id": "700522c5-6623-4c49-9600-7c086e685b02",
   "metadata": {},
   "outputs": [
    {
     "data": {
      "text/plain": [
       "True"
      ]
     },
     "execution_count": 13,
     "metadata": {},
     "output_type": "execute_result"
    }
   ],
   "source": [
    "10>2"
   ]
  },
  {
   "cell_type": "code",
   "execution_count": 14,
   "id": "ba5e4642-acf8-401c-8341-562c0728a46a",
   "metadata": {},
   "outputs": [
    {
     "data": {
      "text/plain": [
       "True"
      ]
     },
     "execution_count": 14,
     "metadata": {},
     "output_type": "execute_result"
    }
   ],
   "source": [
    "10>=2"
   ]
  },
  {
   "cell_type": "code",
   "execution_count": 15,
   "id": "27daab65-a5dc-40f5-bd1b-a26b9eb0bc4d",
   "metadata": {},
   "outputs": [
    {
     "data": {
      "text/plain": [
       "False"
      ]
     },
     "execution_count": 15,
     "metadata": {},
     "output_type": "execute_result"
    }
   ],
   "source": [
    "10<2"
   ]
  },
  {
   "cell_type": "code",
   "execution_count": 16,
   "id": "627d3d51-0e8d-483f-8ad3-e5c9403cdcf4",
   "metadata": {},
   "outputs": [
    {
     "data": {
      "text/plain": [
       "False"
      ]
     },
     "execution_count": 16,
     "metadata": {},
     "output_type": "execute_result"
    }
   ],
   "source": [
    "10<=2"
   ]
  },
  {
   "cell_type": "markdown",
   "id": "596def50-ad91-41ba-90af-45bf276080b8",
   "metadata": {},
   "source": [
    "# Logical Opertor\n",
    "- and\n",
    "- or"
   ]
  },
  {
   "cell_type": "code",
   "execution_count": 17,
   "id": "e03e88cb-4f65-4318-8de7-5bf79b025074",
   "metadata": {},
   "outputs": [
    {
     "data": {
      "text/plain": [
       "True"
      ]
     },
     "execution_count": 17,
     "metadata": {},
     "output_type": "execute_result"
    }
   ],
   "source": [
    "True and True"
   ]
  },
  {
   "cell_type": "code",
   "execution_count": 18,
   "id": "421b848a-cece-4b6e-8fb1-3c9a09d6e655",
   "metadata": {},
   "outputs": [
    {
     "data": {
      "text/plain": [
       "False"
      ]
     },
     "execution_count": 18,
     "metadata": {},
     "output_type": "execute_result"
    }
   ],
   "source": [
    "False and False"
   ]
  },
  {
   "cell_type": "code",
   "execution_count": 19,
   "id": "4da8b4be-369f-42bf-9378-1670ac679bdc",
   "metadata": {},
   "outputs": [
    {
     "data": {
      "text/plain": [
       "True"
      ]
     },
     "execution_count": 19,
     "metadata": {},
     "output_type": "execute_result"
    }
   ],
   "source": [
    "True or False"
   ]
  },
  {
   "cell_type": "code",
   "execution_count": 20,
   "id": "b66b30f2-63b7-48fb-bd19-8c5270be808b",
   "metadata": {},
   "outputs": [
    {
     "data": {
      "text/plain": [
       "False"
      ]
     },
     "execution_count": 20,
     "metadata": {},
     "output_type": "execute_result"
    }
   ],
   "source": [
    "True and False"
   ]
  },
  {
   "cell_type": "code",
   "execution_count": 21,
   "id": "d037dee2-6ad5-4b40-8dfc-77d196d21a30",
   "metadata": {},
   "outputs": [
    {
     "data": {
      "text/plain": [
       "False"
      ]
     },
     "execution_count": 21,
     "metadata": {},
     "output_type": "execute_result"
    }
   ],
   "source": [
    "not True"
   ]
  },
  {
   "cell_type": "code",
   "execution_count": 22,
   "id": "7b826862-18e2-4689-9858-5b186ad3a4c9",
   "metadata": {},
   "outputs": [
    {
     "data": {
      "text/plain": [
       "True"
      ]
     },
     "execution_count": 22,
     "metadata": {},
     "output_type": "execute_result"
    }
   ],
   "source": [
    "not False"
   ]
  },
  {
   "cell_type": "markdown",
   "id": "35916267-a592-4c2d-8ada-fff68a4a89c8",
   "metadata": {},
   "source": [
    "## Assignment Operator"
   ]
  },
  {
   "cell_type": "code",
   "execution_count": 23,
   "id": "7e9384fc-2d88-448e-bb8f-176a2dde144d",
   "metadata": {},
   "outputs": [
    {
     "data": {
      "text/plain": [
       "10"
      ]
     },
     "execution_count": 23,
     "metadata": {},
     "output_type": "execute_result"
    }
   ],
   "source": [
    "a=10\n",
    "a"
   ]
  },
  {
   "cell_type": "code",
   "execution_count": 24,
   "id": "ffc94f28-d5af-4e00-9825-2ca062bec2c4",
   "metadata": {},
   "outputs": [
    {
     "data": {
      "text/plain": [
       "15"
      ]
     },
     "execution_count": 24,
     "metadata": {},
     "output_type": "execute_result"
    }
   ],
   "source": [
    "a+5"
   ]
  },
  {
   "cell_type": "code",
   "execution_count": 25,
   "id": "078068d9-e24d-46ed-b0d2-62e3381a3718",
   "metadata": {},
   "outputs": [
    {
     "data": {
      "text/plain": [
       "16"
      ]
     },
     "execution_count": 25,
     "metadata": {},
     "output_type": "execute_result"
    }
   ],
   "source": [
    "b=10\n",
    "b+6"
   ]
  },
  {
   "cell_type": "code",
   "execution_count": 26,
   "id": "14b2c763-1fbf-43bc-8691-5bdc82486882",
   "metadata": {},
   "outputs": [
    {
     "data": {
      "text/plain": [
       "16"
      ]
     },
     "execution_count": 26,
     "metadata": {},
     "output_type": "execute_result"
    }
   ],
   "source": [
    "b=12\n",
    "b+=4 #Short-hand method\n",
    "b"
   ]
  },
  {
   "cell_type": "markdown",
   "id": "93cae849-5829-4be2-9e75-93f0924d6189",
   "metadata": {},
   "source": [
    "# Note-:\n",
    "- Computation happen form left to right in python"
   ]
  },
  {
   "cell_type": "markdown",
   "id": "7167cd81-8d98-4c83-a7f0-edf06246e903",
   "metadata": {},
   "source": [
    "## Membership Operator"
   ]
  },
  {
   "cell_type": "code",
   "execution_count": 27,
   "id": "7f6fd220-23ed-4f5c-aa9f-f361e9ff351a",
   "metadata": {},
   "outputs": [
    {
     "data": {
      "text/plain": [
       "True"
      ]
     },
     "execution_count": 27,
     "metadata": {},
     "output_type": "execute_result"
    }
   ],
   "source": [
    "a='pwskills'\n",
    "'p' in a"
   ]
  },
  {
   "cell_type": "code",
   "execution_count": 28,
   "id": "3c593361-9e37-41ee-a657-1663160f0b0c",
   "metadata": {},
   "outputs": [
    {
     "data": {
      "text/plain": [
       "False"
      ]
     },
     "execution_count": 28,
     "metadata": {},
     "output_type": "execute_result"
    }
   ],
   "source": [
    "'p' not in a"
   ]
  },
  {
   "cell_type": "code",
   "execution_count": 29,
   "id": "af7025f8-7b10-451c-bafd-fe326b020df9",
   "metadata": {},
   "outputs": [
    {
     "data": {
      "text/plain": [
       "False"
      ]
     },
     "execution_count": 29,
     "metadata": {},
     "output_type": "execute_result"
    }
   ],
   "source": [
    "'a' in a"
   ]
  },
  {
   "cell_type": "code",
   "execution_count": 30,
   "id": "52b64ffd-ee34-4867-b2ce-62a4ab50f269",
   "metadata": {},
   "outputs": [
    {
     "data": {
      "text/plain": [
       "False"
      ]
     },
     "execution_count": 30,
     "metadata": {},
     "output_type": "execute_result"
    }
   ],
   "source": [
    "a=['Apple','Banana']\n",
    "'apple' in a"
   ]
  },
  {
   "cell_type": "code",
   "execution_count": 31,
   "id": "9d0eace1-8609-4eaa-a3dc-433534f90152",
   "metadata": {},
   "outputs": [
    {
     "data": {
      "text/plain": [
       "True"
      ]
     },
     "execution_count": 31,
     "metadata": {},
     "output_type": "execute_result"
    }
   ],
   "source": [
    "'Apple' in a"
   ]
  },
  {
   "cell_type": "markdown",
   "id": "d9b5d3cb-9d40-4abe-8a10-6016a5b2c6a7",
   "metadata": {},
   "source": [
    "# Identity Operators\n",
    "- It compares location of two object in memory"
   ]
  },
  {
   "cell_type": "code",
   "execution_count": 32,
   "id": "24c34d96-211b-4426-b727-0c739e1b5595",
   "metadata": {},
   "outputs": [],
   "source": [
    "a=2\n",
    "b=3"
   ]
  },
  {
   "cell_type": "code",
   "execution_count": 33,
   "id": "b60270b0-eccc-45d8-95f7-261e165e63ab",
   "metadata": {},
   "outputs": [
    {
     "data": {
      "text/plain": [
       "False"
      ]
     },
     "execution_count": 33,
     "metadata": {},
     "output_type": "execute_result"
    }
   ],
   "source": [
    "a is b"
   ]
  },
  {
   "cell_type": "code",
   "execution_count": 34,
   "id": "a8d54561-2940-40b7-a266-ba5fbbf3b120",
   "metadata": {},
   "outputs": [
    {
     "data": {
      "text/plain": [
       "True"
      ]
     },
     "execution_count": 34,
     "metadata": {},
     "output_type": "execute_result"
    }
   ],
   "source": [
    "a is not b"
   ]
  },
  {
   "cell_type": "code",
   "execution_count": 35,
   "id": "f6548228-3f06-40ea-8517-bdea6a74c037",
   "metadata": {},
   "outputs": [],
   "source": [
    "a=2\n",
    "b=a\n"
   ]
  },
  {
   "cell_type": "code",
   "execution_count": 36,
   "id": "a71790fb-edf7-4922-ab61-7e33221f2ccf",
   "metadata": {},
   "outputs": [
    {
     "data": {
      "text/plain": [
       "True"
      ]
     },
     "execution_count": 36,
     "metadata": {},
     "output_type": "execute_result"
    }
   ],
   "source": [
    "a is b"
   ]
  },
  {
   "cell_type": "markdown",
   "id": "6e025a60-5b47-4d6d-aa0a-3b5ade2597c9",
   "metadata": {},
   "source": [
    "# Bitwise Operator\n",
    "- Perform operation at bit level, manipulating bits within integer.\n",
    "- (2**3)    2**2    2**1   2**0 -> Bit Representation\n",
    "- 0         0       0      0  ->1  representing 1 in bit\n",
    "- 0         0       1      0  ->2  representing 2 in bit\n",
    "- 0         0       1      1  ->3  representing 3 in bit\n",
    "\n",
    "\n",
    "  "
   ]
  },
  {
   "cell_type": "markdown",
   "id": "1a69102a-3f30-47e8-b3bf-853031be3b3f",
   "metadata": {},
   "source": [
    "# Bitwise and (&)"
   ]
  },
  {
   "cell_type": "code",
   "execution_count": 39,
   "id": "27f290de-d2d8-465b-b627-43e86de08d3f",
   "metadata": {},
   "outputs": [
    {
     "data": {
      "text/plain": [
       "10"
      ]
     },
     "execution_count": 39,
     "metadata": {},
     "output_type": "execute_result"
    }
   ],
   "source": [
    "10 & 10\n",
    "# bit wise operation of 10 is 1010\n",
    "# so another  bit wise operation of 10 is 1010\n",
    "#1010\n",
    "#1010\n",
    "#use and logical operator logic u will get 1010 age do 1010 is 10 so the answer is 10\n"
   ]
  },
  {
   "cell_type": "code",
   "execution_count": 41,
   "id": "67054199-87df-4d2f-bfa8-2dd0e3c0f459",
   "metadata": {},
   "outputs": [
    {
     "data": {
      "text/plain": [
       "'0b1010'"
      ]
     },
     "execution_count": 41,
     "metadata": {},
     "output_type": "execute_result"
    }
   ],
   "source": [
    "bin(10) # to get the binary number of any number"
   ]
  },
  {
   "cell_type": "code",
   "execution_count": 42,
   "id": "8a8b7d69-f4fb-4771-a315-32083b9b8fa1",
   "metadata": {},
   "outputs": [
    {
     "data": {
      "text/plain": [
       "'0b10010'"
      ]
     },
     "execution_count": 42,
     "metadata": {},
     "output_type": "execute_result"
    }
   ],
   "source": [
    "bin(18)"
   ]
  },
  {
   "cell_type": "code",
   "execution_count": 43,
   "id": "5516d4c5-d1d7-498f-a66c-c10193975711",
   "metadata": {},
   "outputs": [
    {
     "data": {
      "text/plain": [
       "'0b11'"
      ]
     },
     "execution_count": 43,
     "metadata": {},
     "output_type": "execute_result"
    }
   ],
   "source": [
    "bin(3)"
   ]
  },
  {
   "cell_type": "code",
   "execution_count": 44,
   "id": "00a04451-f9d4-4345-a215-1611282b9e30",
   "metadata": {},
   "outputs": [
    {
     "data": {
      "text/plain": [
       "2"
      ]
     },
     "execution_count": 44,
     "metadata": {},
     "output_type": "execute_result"
    }
   ],
   "source": [
    "18 &3"
   ]
  },
  {
   "cell_type": "markdown",
   "id": "8c89ee6e-ca78-4fd3-bd52-cf0e9cacad0c",
   "metadata": {},
   "source": [
    "# Bitwiese or(|)"
   ]
  },
  {
   "cell_type": "code",
   "execution_count": 45,
   "id": "161ee5c9-1b8d-475d-b3ea-a6dcd94cd5d8",
   "metadata": {},
   "outputs": [
    {
     "data": {
      "text/plain": [
       "7"
      ]
     },
     "execution_count": 45,
     "metadata": {},
     "output_type": "execute_result"
    }
   ],
   "source": [
    "3|5"
   ]
  },
  {
   "cell_type": "code",
   "execution_count": 46,
   "id": "e1569187-a42a-4a85-aba8-0f48f33fe1b2",
   "metadata": {},
   "outputs": [
    {
     "data": {
      "text/plain": [
       "'0b11'"
      ]
     },
     "execution_count": 46,
     "metadata": {},
     "output_type": "execute_result"
    }
   ],
   "source": [
    "bin(3)"
   ]
  },
  {
   "cell_type": "code",
   "execution_count": 47,
   "id": "fb8015c3-f3cf-4faa-a84a-e9bdb296a43d",
   "metadata": {},
   "outputs": [
    {
     "data": {
      "text/plain": [
       "'0b101'"
      ]
     },
     "execution_count": 47,
     "metadata": {},
     "output_type": "execute_result"
    }
   ],
   "source": [
    "bin(5)"
   ]
  },
  {
   "cell_type": "markdown",
   "id": "267fd36a-6962-4157-a8a0-3998a83aea4d",
   "metadata": {},
   "source": [
    "# Bitwise Negation (~)"
   ]
  },
  {
   "cell_type": "code",
   "execution_count": 48,
   "id": "440e6f73-d9bb-4f31-ba56-7bd90de72364",
   "metadata": {},
   "outputs": [
    {
     "data": {
      "text/plain": [
       "-101"
      ]
     },
     "execution_count": 48,
     "metadata": {},
     "output_type": "execute_result"
    }
   ],
   "source": [
    "~100 # one value lower than 100 with minus symbol that is -101"
   ]
  },
  {
   "cell_type": "code",
   "execution_count": 50,
   "id": "57d1d095-71d5-49a0-b5c0-1b06c2330de8",
   "metadata": {},
   "outputs": [
    {
     "data": {
      "text/plain": [
       "-4"
      ]
     },
     "execution_count": 50,
     "metadata": {},
     "output_type": "execute_result"
    }
   ],
   "source": [
    "~3"
   ]
  },
  {
   "cell_type": "markdown",
   "id": "854d443a-a2af-450a-88f9-66e643533256",
   "metadata": {},
   "source": [
    "# Bitwise XOR \n",
    "- ^\n",
    "-  a b  a^b\n",
    "-  0 0  0\n",
    "-  1 0  1\n",
    "-  0 1  1\n",
    "-  1 1  0"
   ]
  },
  {
   "cell_type": "code",
   "execution_count": 51,
   "id": "29a32b59-a26e-4e32-a3c2-a73d2ff7b39d",
   "metadata": {},
   "outputs": [
    {
     "data": {
      "text/plain": [
       "6"
      ]
     },
     "execution_count": 51,
     "metadata": {},
     "output_type": "execute_result"
    }
   ],
   "source": [
    "5^3 # XOR"
   ]
  },
  {
   "cell_type": "markdown",
   "id": "fdd80723-a514-4745-b8ff-0cba34f56931",
   "metadata": {},
   "source": [
    "# Shift Operator \n",
    "- It shift a bit either left or right by a specified number of position.\n",
    "- Left -> 35<<3 -> It shift a bit left  by a specified number of position filling 0's to the right\n",
    "- Right -> 36>>3-> remove the elements in th binary\n",
    "- "
   ]
  },
  {
   "cell_type": "code",
   "execution_count": 52,
   "id": "c8cb112b-c2e0-4193-9746-48a59165b223",
   "metadata": {},
   "outputs": [
    {
     "data": {
      "text/plain": [
       "280"
      ]
     },
     "execution_count": 52,
     "metadata": {},
     "output_type": "execute_result"
    }
   ],
   "source": [
    "35<<3"
   ]
  },
  {
   "cell_type": "code",
   "execution_count": 53,
   "id": "ce7bc31c-2141-4be0-abca-b407722c5ead",
   "metadata": {},
   "outputs": [
    {
     "data": {
      "text/plain": [
       "35"
      ]
     },
     "execution_count": 53,
     "metadata": {},
     "output_type": "execute_result"
    }
   ],
   "source": [
    "280>>3"
   ]
  },
  {
   "cell_type": "markdown",
   "id": "73bcdb53-ec50-4aac-ba17-22a493dc1de2",
   "metadata": {},
   "source": [
    "# Order of Precedence in Python\n",
    "- Execution of python statement will be firm left to right.\n",
    "- 1. Always Parenthesis\n",
    "  2. check on internet"
   ]
  },
  {
   "cell_type": "code",
   "execution_count": 54,
   "id": "ec98975c-b23e-4547-8d5d-59e1755b19f8",
   "metadata": {},
   "outputs": [
    {
     "data": {
      "text/plain": [
       "4"
      ]
     },
     "execution_count": 54,
     "metadata": {},
     "output_type": "execute_result"
    }
   ],
   "source": [
    "10-8+2"
   ]
  },
  {
   "cell_type": "code",
   "execution_count": 55,
   "id": "09bd4ec6-425d-4730-870e-0641ae06a094",
   "metadata": {},
   "outputs": [
    {
     "data": {
      "text/plain": [
       "9.0"
      ]
     },
     "execution_count": 55,
     "metadata": {},
     "output_type": "execute_result"
    }
   ],
   "source": [
    "(8/2)+5"
   ]
  },
  {
   "cell_type": "code",
   "execution_count": 58,
   "id": "e7b8163d-ab4a-44a8-b52b-febbd4f702da",
   "metadata": {},
   "outputs": [
    {
     "name": "stdout",
     "output_type": "stream",
     "text": [
      "\n",
      "Here is a list of the Python keywords.  Enter any keyword to get more help.\n",
      "\n",
      "False               class               from                or\n",
      "None                continue            global              pass\n",
      "True                def                 if                  raise\n",
      "and                 del                 import              return\n",
      "as                  elif                in                  try\n",
      "assert              else                is                  while\n",
      "async               except              lambda              with\n",
      "await               finally             nonlocal            yield\n",
      "break               for                 not                 \n",
      "\n"
     ]
    }
   ],
   "source": [
    "help('keywords')"
   ]
  },
  {
   "cell_type": "code",
   "execution_count": null,
   "id": "56e232ac-bda9-40d1-b60d-d9f7a0ef33e3",
   "metadata": {},
   "outputs": [],
   "source": []
  }
 ],
 "metadata": {
  "kernelspec": {
   "display_name": "Python 3 (ipykernel)",
   "language": "python",
   "name": "python3"
  },
  "language_info": {
   "codemirror_mode": {
    "name": "ipython",
    "version": 3
   },
   "file_extension": ".py",
   "mimetype": "text/x-python",
   "name": "python",
   "nbconvert_exporter": "python",
   "pygments_lexer": "ipython3",
   "version": "3.12.7"
  }
 },
 "nbformat": 4,
 "nbformat_minor": 5
}
