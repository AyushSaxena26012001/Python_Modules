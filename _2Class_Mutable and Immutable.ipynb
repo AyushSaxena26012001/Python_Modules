{
 "cells": [
  {
   "cell_type": "code",
   "execution_count": 1,
   "id": "cae5663b-e8c1-4f23-8f59-5d726d76a33c",
   "metadata": {},
   "outputs": [
    {
     "data": {
      "text/plain": [
       "6"
      ]
     },
     "execution_count": 1,
     "metadata": {},
     "output_type": "execute_result"
    }
   ],
   "source": [
    "a=6\n",
    "a #in the memory , a memory block is created with refrence name a and value 6"
   ]
  },
  {
   "cell_type": "code",
   "execution_count": 2,
   "id": "40cf2c0c-4264-4907-9f59-b24fc517e793",
   "metadata": {},
   "outputs": [
    {
     "data": {
      "text/plain": [
       "'Ayush'"
      ]
     },
     "execution_count": 2,
     "metadata": {},
     "output_type": "execute_result"
    }
   ],
   "source": [
    "b=\"Ayush\"\n",
    "b"
   ]
  },
  {
   "cell_type": "code",
   "execution_count": 3,
   "id": "88315d57-6e96-4045-a3f4-de06bf755618",
   "metadata": {},
   "outputs": [
    {
     "data": {
      "text/plain": [
       "'A'"
      ]
     },
     "execution_count": 3,
     "metadata": {},
     "output_type": "execute_result"
    }
   ],
   "source": [
    "b[0]"
   ]
  },
  {
   "cell_type": "code",
   "execution_count": 4,
   "id": "2bd66e83-f159-40d8-afa7-eb57803570c4",
   "metadata": {},
   "outputs": [
    {
     "data": {
      "text/plain": [
       "'u'"
      ]
     },
     "execution_count": 4,
     "metadata": {},
     "output_type": "execute_result"
    }
   ],
   "source": [
    "b[2]"
   ]
  },
  {
   "cell_type": "code",
   "execution_count": 5,
   "id": "ad47f2ce-c8fd-43f5-9e46-0b3b5844dc50",
   "metadata": {},
   "outputs": [
    {
     "data": {
      "text/plain": [
       "'h'"
      ]
     },
     "execution_count": 5,
     "metadata": {},
     "output_type": "execute_result"
    }
   ],
   "source": [
    "b[-1]"
   ]
  },
  {
   "cell_type": "code",
   "execution_count": 6,
   "id": "35a4e750-8dfc-4d8b-af8b-2a4f3c43a627",
   "metadata": {},
   "outputs": [
    {
     "data": {
      "text/plain": [
       "'s'"
      ]
     },
     "execution_count": 6,
     "metadata": {},
     "output_type": "execute_result"
    }
   ],
   "source": [
    "b[-2]"
   ]
  },
  {
   "cell_type": "markdown",
   "id": "f1b06039-65a6-474a-974b-838d6299b26e",
   "metadata": {},
   "source": [
    "# Another type of data container or data structure that is \"List\""
   ]
  },
  {
   "cell_type": "code",
   "execution_count": 8,
   "id": "f11d90a6-5319-433a-8fd7-f946ba6be953",
   "metadata": {},
   "outputs": [
    {
     "data": {
      "text/plain": [
       "[1, 2, 3, 4, True, False, 1.2, (3+5j)]"
      ]
     },
     "execution_count": 8,
     "metadata": {},
     "output_type": "execute_result"
    }
   ],
   "source": [
    "#[] list\n",
    "list_cont=[1,2,3,4,True,False,1.2,3+5j]\n",
    "list_cont"
   ]
  },
  {
   "cell_type": "code",
   "execution_count": 9,
   "id": "3ff37d63-8205-46f9-b4ad-7c543f991fcd",
   "metadata": {},
   "outputs": [
    {
     "data": {
      "text/plain": [
       "2"
      ]
     },
     "execution_count": 9,
     "metadata": {},
     "output_type": "execute_result"
    }
   ],
   "source": [
    "list_cont[1]"
   ]
  },
  {
   "cell_type": "code",
   "execution_count": 10,
   "id": "33ab2e27-5812-4de5-87f1-35b1e271fb1d",
   "metadata": {},
   "outputs": [
    {
     "data": {
      "text/plain": [
       "1"
      ]
     },
     "execution_count": 10,
     "metadata": {},
     "output_type": "execute_result"
    }
   ],
   "source": [
    "list_cont[0]"
   ]
  },
  {
   "cell_type": "code",
   "execution_count": 11,
   "id": "2dd0c978-d512-4e45-be01-d571a71ff7b1",
   "metadata": {},
   "outputs": [
    {
     "data": {
      "text/plain": [
       "list"
      ]
     },
     "execution_count": 11,
     "metadata": {},
     "output_type": "execute_result"
    }
   ],
   "source": [
    "type(list_cont)"
   ]
  },
  {
   "cell_type": "code",
   "execution_count": 12,
   "id": "7d8c05af-f81b-4fb8-965c-d176276c89cc",
   "metadata": {},
   "outputs": [
    {
     "data": {
      "text/plain": [
       "(3+5j)"
      ]
     },
     "execution_count": 12,
     "metadata": {},
     "output_type": "execute_result"
    }
   ],
   "source": [
    "list_cont[-1]"
   ]
  },
  {
   "cell_type": "markdown",
   "id": "56cf1c38-c9c6-4ef6-a1b2-6a6ac1dc691a",
   "metadata": {},
   "source": [
    "# Mutability\n",
    "- Change something\n",
    "- List is mutable which support item assignment."
   ]
  },
  {
   "cell_type": "code",
   "execution_count": 13,
   "id": "ce04cd62-2a1b-4831-a17e-f8413b525cbb",
   "metadata": {},
   "outputs": [],
   "source": [
    "list_cont[1]='Ayush'"
   ]
  },
  {
   "cell_type": "code",
   "execution_count": 14,
   "id": "fbd2da75-0413-4b18-b680-3cb1e2837757",
   "metadata": {},
   "outputs": [
    {
     "data": {
      "text/plain": [
       "[1, 'Ayush', 3, 4, True, False, 1.2, (3+5j)]"
      ]
     },
     "execution_count": 14,
     "metadata": {},
     "output_type": "execute_result"
    }
   ],
   "source": [
    "list_cont"
   ]
  },
  {
   "cell_type": "code",
   "execution_count": 15,
   "id": "948d882f-0373-4e08-a5bd-a3c629e2aeb7",
   "metadata": {},
   "outputs": [],
   "source": [
    "b='ayush'"
   ]
  },
  {
   "cell_type": "code",
   "execution_count": 16,
   "id": "23d6d419-8aa6-49ec-acc2-9069c5366de0",
   "metadata": {},
   "outputs": [
    {
     "data": {
      "text/plain": [
       "'a'"
      ]
     },
     "execution_count": 16,
     "metadata": {},
     "output_type": "execute_result"
    }
   ],
   "source": [
    "b[0]"
   ]
  },
  {
   "cell_type": "code",
   "execution_count": 17,
   "id": "b593df35-db09-434b-97d9-4c78416213e5",
   "metadata": {},
   "outputs": [
    {
     "ename": "TypeError",
     "evalue": "'str' object does not support item assignment",
     "output_type": "error",
     "traceback": [
      "\u001b[1;31m---------------------------------------------------------------------------\u001b[0m",
      "\u001b[1;31mTypeError\u001b[0m                                 Traceback (most recent call last)",
      "Cell \u001b[1;32mIn[17], line 1\u001b[0m\n\u001b[1;32m----> 1\u001b[0m b[\u001b[38;5;241m0\u001b[39m]\u001b[38;5;241m=\u001b[39m\u001b[38;5;124m'\u001b[39m\u001b[38;5;124mP\u001b[39m\u001b[38;5;124m'\u001b[39m\n",
      "\u001b[1;31mTypeError\u001b[0m: 'str' object does not support item assignment"
     ]
    }
   ],
   "source": [
    "b[0]='P'"
   ]
  },
  {
   "cell_type": "markdown",
   "id": "ff9e8097-d4bd-4789-976b-7e5de285c092",
   "metadata": {},
   "source": [
    "# String is immutable and doest not support item assignment"
   ]
  },
  {
   "cell_type": "code",
   "execution_count": null,
   "id": "d823f6ce-6578-4279-ac63-339ffb82ecb8",
   "metadata": {},
   "outputs": [],
   "source": []
  }
 ],
 "metadata": {
  "kernelspec": {
   "display_name": "Python 3 (ipykernel)",
   "language": "python",
   "name": "python3"
  },
  "language_info": {
   "codemirror_mode": {
    "name": "ipython",
    "version": 3
   },
   "file_extension": ".py",
   "mimetype": "text/x-python",
   "name": "python",
   "nbconvert_exporter": "python",
   "pygments_lexer": "ipython3",
   "version": "3.12.7"
  }
 },
 "nbformat": 4,
 "nbformat_minor": 5
}
