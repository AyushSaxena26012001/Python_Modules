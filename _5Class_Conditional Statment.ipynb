{
 "cells": [
  {
   "cell_type": "markdown",
   "id": "65d5eb1f-95dc-4358-ae77-87b167e2fa29",
   "metadata": {},
   "source": [
    "# Flow Control\n",
    "- Flow control in python refers to the mexhanisms that gover the order in which statments and instructions are exceuted. This is crucial for implementing logic in your programs.\n",
    "- 1. Conditional\n",
    "  2. Loop\n",
    "  3. Control"
   ]
  },
  {
   "cell_type": "markdown",
   "id": "8a69fb4e-9b7e-4aa2-bfb9-fea74f11b949",
   "metadata": {},
   "source": [
    "## Conditional Statment\n",
    "- Helps you to code decisions based on some preconditions\n",
    "- 1. if\n",
    "  2. if lese\n",
    "  3. elif\n",
    "  4. nested if else"
   ]
  },
  {
   "cell_type": "code",
   "execution_count": null,
   "id": "519d00ec-5f67-4dc4-a1ae-9d519cc68d25",
   "metadata": {},
   "outputs": [],
   "source": [
    "'''\n",
    "if statment \n",
    "Syntax\n",
    "if condition is True:\n",
    "    block of code will be executed\n",
    "'''"
   ]
  },
  {
   "cell_type": "code",
   "execution_count": 2,
   "id": "fe39f55e-64b4-4eb9-92d5-e66ccf5ca689",
   "metadata": {},
   "outputs": [
    {
     "name": "stdout",
     "output_type": "stream",
     "text": [
      "Greater than 0\n"
     ]
    }
   ],
   "source": [
    "a=100\n",
    "if a>0:\n",
    "    print(\"Greater than 0\")"
   ]
  },
  {
   "cell_type": "code",
   "execution_count": 3,
   "id": "cd91522b-942e-4c8e-9229-75f87862c584",
   "metadata": {},
   "outputs": [],
   "source": [
    "a=100\n",
    "if a<0:\n",
    "    print(\"Greater than 0\")"
   ]
  },
  {
   "cell_type": "code",
   "execution_count": 4,
   "id": "01825be3-dd59-4ada-b194-563705ccbe4e",
   "metadata": {},
   "outputs": [
    {
     "name": "stdout",
     "output_type": "stream",
     "text": [
      "I will not play cricket\n"
     ]
    }
   ],
   "source": [
    "weather ='Rainy'\n",
    "if weather=='Rainy':\n",
    "    print(\"I will not play cricket\")"
   ]
  },
  {
   "cell_type": "code",
   "execution_count": 5,
   "id": "133946b9-71f0-4a15-aadd-ccd5fa1486ae",
   "metadata": {},
   "outputs": [
    {
     "name": "stdout",
     "output_type": "stream",
     "text": [
      "Room Temp\n"
     ]
    }
   ],
   "source": [
    "t=30\n",
    "if t>25:\n",
    "    print(\"Room Temp\")"
   ]
  },
  {
   "cell_type": "code",
   "execution_count": 6,
   "id": "929dc57a-9a62-42dc-9e7a-0340c4623d0b",
   "metadata": {},
   "outputs": [
    {
     "name": "stdout",
     "output_type": "stream",
     "text": [
      "Excellent\n"
     ]
    }
   ],
   "source": [
    "grade=10\n",
    "if grade>=10:\n",
    "    print(\"Excellent\")"
   ]
  },
  {
   "cell_type": "markdown",
   "id": "88438bd3-4207-46fb-8f82-5b503fc0daac",
   "metadata": {},
   "source": [
    "# Even Odd"
   ]
  },
  {
   "cell_type": "code",
   "execution_count": 9,
   "id": "b9574cc7-fbdd-408d-91e8-6040c1c616f8",
   "metadata": {},
   "outputs": [
    {
     "name": "stdout",
     "output_type": "stream",
     "text": [
      "Number is Even\n"
     ]
    }
   ],
   "source": [
    "number=42\n",
    "if number%2==0:\n",
    "    print(\"Number is Even\")\n",
    "else:\n",
    "    print(\"Odd\")"
   ]
  },
  {
   "cell_type": "code",
   "execution_count": 11,
   "id": "ffb08ace-9534-485c-a7f4-a7f83b58e59b",
   "metadata": {},
   "outputs": [
    {
     "name": "stdout",
     "output_type": "stream",
     "text": [
      "You are allrounder\n"
     ]
    }
   ],
   "source": [
    "grade=9\n",
    "co_cirr=True\n",
    "if ((grade>=9) and (co_cirr==True)):\n",
    "    print(\"You are allrounder\")"
   ]
  },
  {
   "cell_type": "code",
   "execution_count": 12,
   "id": "8254e515-4476-451e-ad47-5b0eac416b92",
   "metadata": {},
   "outputs": [
    {
     "name": "stdout",
     "output_type": "stream",
     "text": [
      "I will  play cricket\n"
     ]
    }
   ],
   "source": [
    "weather ='Sunny'\n",
    "if weather=='Sunny':\n",
    "    print(\"I will  play cricket\")\n",
    "else:\n",
    "    print(\"I will be free\")"
   ]
  },
  {
   "cell_type": "code",
   "execution_count": 13,
   "id": "54b0f38d-0d00-4c51-872c-5eddf892560a",
   "metadata": {},
   "outputs": [
    {
     "name": "stdout",
     "output_type": "stream",
     "text": [
      "I will be free\n"
     ]
    }
   ],
   "source": [
    "weather ='Sunny'\n",
    "if weather=='rainy':\n",
    "    print(\"I will  play cricket\")\n",
    "else:\n",
    "    print(\"I will be free\")"
   ]
  },
  {
   "cell_type": "code",
   "execution_count": 14,
   "id": "47732f01-1f7a-41e0-a49b-3305bcf8bb76",
   "metadata": {},
   "outputs": [
    {
     "name": "stdout",
     "output_type": "stream",
     "text": [
      "Alchol\n"
     ]
    }
   ],
   "source": [
    "age=21\n",
    "if age>=18:\n",
    "    print(\"Alchol\")\n",
    "else:\n",
    "    print(\"Get Out!\")"
   ]
  },
  {
   "cell_type": "code",
   "execution_count": 15,
   "id": "94be51e6-fa74-48ce-a2ff-6d8aa3885fd2",
   "metadata": {},
   "outputs": [
    {
     "name": "stdout",
     "output_type": "stream",
     "text": [
      "Drive\n"
     ]
    }
   ],
   "source": [
    "age=19\n",
    "if age >=18:\n",
    "    print(\"Drive\")\n",
    "else:\n",
    "    print(\"Do not drive\")"
   ]
  },
  {
   "cell_type": "code",
   "execution_count": 16,
   "id": "7b22e738-c240-4359-9930-3950cc6e4511",
   "metadata": {},
   "outputs": [
    {
     "name": "stdout",
     "output_type": "stream",
     "text": [
      "Passed\n"
     ]
    }
   ],
   "source": [
    "m=33\n",
    "if m>=33:\n",
    "    print(\"Passed\")\n",
    "else:\n",
    "    print(\"Repeat the calss\")"
   ]
  },
  {
   "cell_type": "code",
   "execution_count": 17,
   "id": "5d30fce1-8d0a-42fa-be83-dd6ed9535456",
   "metadata": {},
   "outputs": [
    {
     "name": "stdout",
     "output_type": "stream",
     "text": [
      "Lesser\n"
     ]
    }
   ],
   "source": [
    "a=10\n",
    "if a>100:\n",
    "    print(\"Greater than 100\")\n",
    "elif a<100:\n",
    "    print(\"Lesser\")\n",
    "else:\n",
    "    print(\"Numer is equal to 100\")"
   ]
  },
  {
   "cell_type": "code",
   "execution_count": 19,
   "id": "22453b28-fa3d-41cb-b612-35c1d1c4c0ec",
   "metadata": {},
   "outputs": [
    {
     "name": "stdout",
     "output_type": "stream",
     "text": [
      "Grade B\n"
     ]
    }
   ],
   "source": [
    "marks=80\n",
    "if marks>=90:\n",
    "    print(\"Grade A\")\n",
    "elif(80<=marks<90):\n",
    "    print(\"Grade B\")\n",
    "elif(70<=marks<80):\n",
    "    print(\"Grade C\")\n",
    "else:\n",
    "    print(\"Grade D\")"
   ]
  },
  {
   "cell_type": "markdown",
   "id": "6cbfa7e1-ae50-4f4d-ba37-2b1f19e9af74",
   "metadata": {},
   "source": [
    "# Nested"
   ]
  },
  {
   "cell_type": "code",
   "execution_count": 22,
   "id": "b00640c0-af96-4ff2-a195-e598d118eac5",
   "metadata": {},
   "outputs": [
    {
     "name": "stdout",
     "output_type": "stream",
     "text": [
      "x is not greater\n"
     ]
    }
   ],
   "source": [
    "x=1\n",
    "y=6\n",
    "\n",
    "if x>5:\n",
    "    if y>5:\n",
    "        print(\"Both are greater\")\n",
    "    else:\n",
    "        print(\"Some issue is there\")\n",
    "else:\n",
    "    print(\"x is not greater\")"
   ]
  },
  {
   "cell_type": "code",
   "execution_count": 23,
   "id": "3d368c93-95f7-405f-ad4c-10477ec41af5",
   "metadata": {},
   "outputs": [
    {
     "name": "stdout",
     "output_type": "stream",
     "text": [
      "You are vip and very imp.\n"
     ]
    }
   ],
   "source": [
    "is_vip=True\n",
    "age=70\n",
    "if is_vip:\n",
    "    if age>=18:\n",
    "        if age <65:\n",
    "            print(\"Welcome to VIP Customer\")\n",
    "        else:\n",
    "            print(\"You are vip and very imp.\")\n",
    "    else:\n",
    "        print(\"Vip is only for adult\")\n",
    "else:\n",
    "    print(\"You are not VIP\")"
   ]
  },
  {
   "cell_type": "code",
   "execution_count": 28,
   "id": "53f4f047-6aad-488d-bcce-e153d6837af0",
   "metadata": {},
   "outputs": [
    {
     "name": "stdin",
     "output_type": "stream",
     "text": [
      "Enter you name Ayush\n",
      "Enter your mail a@b.com\n",
      "Enter Password 123456678\n"
     ]
    },
    {
     "name": "stdout",
     "output_type": "stream",
     "text": [
      "Login Successfull :)\n"
     ]
    }
   ],
   "source": [
    "name=input(\"Enter you name\")\n",
    "email=input(\"Enter your mail\")\n",
    "passw=input(\"Enter Password\")\n",
    "\n",
    "if name== \"\":\n",
    "    print(\"Please provide the name\")\n",
    "else:\n",
    "    if \"@\" not in email:\n",
    "        print(\"Plese provide the valid email address\")\n",
    "    else:\n",
    "        if len(passw)<=8:\n",
    "            print(\"Please provide the vlin password\")\n",
    "        else:\n",
    "            print(\"Login Successfull :)\")"
   ]
  },
  {
   "cell_type": "code",
   "execution_count": null,
   "id": "f4098e7b-9814-45be-9f08-f10b5479ec46",
   "metadata": {},
   "outputs": [],
   "source": []
  }
 ],
 "metadata": {
  "kernelspec": {
   "display_name": "Python 3 (ipykernel)",
   "language": "python",
   "name": "python3"
  },
  "language_info": {
   "codemirror_mode": {
    "name": "ipython",
    "version": 3
   },
   "file_extension": ".py",
   "mimetype": "text/x-python",
   "name": "python",
   "nbconvert_exporter": "python",
   "pygments_lexer": "ipython3",
   "version": "3.12.7"
  }
 },
 "nbformat": 4,
 "nbformat_minor": 5
}
