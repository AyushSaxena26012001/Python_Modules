{
 "cells": [
  {
   "cell_type": "code",
   "execution_count": 1,
   "id": "5fe9a1b6-f1b0-49a6-814b-7c31cee42bb5",
   "metadata": {},
   "outputs": [
    {
     "name": "stdout",
     "output_type": "stream",
     "text": [
      "Hello World\n"
     ]
    }
   ],
   "source": [
    "print(\"Hello World\")"
   ]
  },
  {
   "cell_type": "markdown",
   "id": "8f2795cb-7ea1-4459-b131-9fd6a1c8b335",
   "metadata": {},
   "source": [
    "### Variables are also called as identifiers-> act as placeholder where we keep variety of data which we can use to write logic and variable can not be keywords.\n",
    "#### Number-> int/Float\n",
    "#### Character-> String in Python\n",
    "#### True/False-> Boolean\n",
    "#### None\n",
    "#### Complex\n",
    "\n",
    "\n",
    "\n",
    "##### Variable is a reserved memory space for storing value"
   ]
  },
  {
   "cell_type": "code",
   "execution_count": 2,
   "id": "0da3c842-e7b0-4524-8f67-9c597b9cea24",
   "metadata": {},
   "outputs": [
    {
     "name": "stdout",
     "output_type": "stream",
     "text": [
      "3\n"
     ]
    }
   ],
   "source": [
    "# Variables are also called as identifiers-> act as placeholder where we keep variety of data which we can use to write logic.\n",
    "a=3\n",
    "print(a)"
   ]
  },
  {
   "cell_type": "code",
   "execution_count": 3,
   "id": "d45d626c-64dd-45b7-b3a6-1a60855845ad",
   "metadata": {},
   "outputs": [
    {
     "name": "stdout",
     "output_type": "stream",
     "text": [
      "2.5\n"
     ]
    }
   ],
   "source": [
    "b=2.5\n",
    "print(b)"
   ]
  },
  {
   "cell_type": "code",
   "execution_count": 4,
   "id": "215d383e-9ded-4470-ad90-b9fd616e0a4f",
   "metadata": {},
   "outputs": [
    {
     "name": "stdout",
     "output_type": "stream",
     "text": [
      "Ayush\n"
     ]
    }
   ],
   "source": [
    "c=\"Ayush\"\n",
    "print(c)"
   ]
  },
  {
   "cell_type": "code",
   "execution_count": 5,
   "id": "95ad2e65-5c5d-4c42-b6f2-9f78fc5992eb",
   "metadata": {},
   "outputs": [
    {
     "data": {
      "text/plain": [
       "str"
      ]
     },
     "execution_count": 5,
     "metadata": {},
     "output_type": "execute_result"
    }
   ],
   "source": [
    "type(c)"
   ]
  },
  {
   "cell_type": "code",
   "execution_count": 6,
   "id": "be036c1a-71db-4358-9ac3-c48d69db0984",
   "metadata": {},
   "outputs": [
    {
     "data": {
      "text/plain": [
       "bool"
      ]
     },
     "execution_count": 6,
     "metadata": {},
     "output_type": "execute_result"
    }
   ],
   "source": [
    "c=True\n",
    "type(c)"
   ]
  },
  {
   "cell_type": "code",
   "execution_count": 7,
   "id": "5de5129c-8ad6-460c-93c6-ee3a9da29336",
   "metadata": {},
   "outputs": [
    {
     "data": {
      "text/plain": [
       "bool"
      ]
     },
     "execution_count": 7,
     "metadata": {},
     "output_type": "execute_result"
    }
   ],
   "source": [
    "d=False\n",
    "type(d)"
   ]
  },
  {
   "cell_type": "code",
   "execution_count": 8,
   "id": "c3da29d3-370d-4459-8502-431fc9ede736",
   "metadata": {},
   "outputs": [
    {
     "data": {
      "text/plain": [
       "1"
      ]
     },
     "execution_count": 8,
     "metadata": {},
     "output_type": "execute_result"
    }
   ],
   "source": [
    "True-False"
   ]
  },
  {
   "cell_type": "code",
   "execution_count": 9,
   "id": "a73f2b7b-7af7-4f44-994b-c9e2e1e18946",
   "metadata": {},
   "outputs": [
    {
     "data": {
      "text/plain": [
       "0"
      ]
     },
     "execution_count": 9,
     "metadata": {},
     "output_type": "execute_result"
    }
   ],
   "source": [
    "True*False"
   ]
  },
  {
   "cell_type": "code",
   "execution_count": 10,
   "id": "ad1b587b-e5da-46ed-9aa1-15485cb65598",
   "metadata": {},
   "outputs": [
    {
     "ename": "ZeroDivisionError",
     "evalue": "division by zero",
     "output_type": "error",
     "traceback": [
      "\u001b[1;31m---------------------------------------------------------------------------\u001b[0m",
      "\u001b[1;31mZeroDivisionError\u001b[0m                         Traceback (most recent call last)",
      "Cell \u001b[1;32mIn[10], line 1\u001b[0m\n\u001b[1;32m----> 1\u001b[0m \u001b[38;5;28;01mTrue\u001b[39;00m\u001b[38;5;241m/\u001b[39m\u001b[38;5;28;01mFalse\u001b[39;00m\n",
      "\u001b[1;31mZeroDivisionError\u001b[0m: division by zero"
     ]
    }
   ],
   "source": [
    "True/False"
   ]
  },
  {
   "cell_type": "code",
   "execution_count": 11,
   "id": "a7729758-e567-46b7-8484-3fa200d45711",
   "metadata": {},
   "outputs": [],
   "source": [
    "f=None\n",
    "f"
   ]
  },
  {
   "cell_type": "code",
   "execution_count": 12,
   "id": "88456641-3c33-480e-ba91-2ac2857757c8",
   "metadata": {},
   "outputs": [
    {
     "data": {
      "text/plain": [
       "NoneType"
      ]
     },
     "execution_count": 12,
     "metadata": {},
     "output_type": "execute_result"
    }
   ],
   "source": [
    "type(f)"
   ]
  },
  {
   "cell_type": "code",
   "execution_count": 13,
   "id": "b5349432-e5db-409b-a88a-c282ff08d0dd",
   "metadata": {},
   "outputs": [],
   "source": [
    "com=5+6j"
   ]
  },
  {
   "cell_type": "code",
   "execution_count": 14,
   "id": "5810a78d-03db-4445-a15a-fe4802827f52",
   "metadata": {},
   "outputs": [
    {
     "name": "stdout",
     "output_type": "stream",
     "text": [
      "(5+6j)\n"
     ]
    }
   ],
   "source": [
    "print(com)"
   ]
  },
  {
   "cell_type": "code",
   "execution_count": 15,
   "id": "956eaf10-4aab-4b3b-8989-35c1d6d6013f",
   "metadata": {},
   "outputs": [
    {
     "data": {
      "text/plain": [
       "complex"
      ]
     },
     "execution_count": 15,
     "metadata": {},
     "output_type": "execute_result"
    }
   ],
   "source": [
    "type(com)"
   ]
  },
  {
   "cell_type": "code",
   "execution_count": 16,
   "id": "2537eb78-456b-448a-87ff-5461cac68d96",
   "metadata": {},
   "outputs": [
    {
     "data": {
      "text/plain": [
       "5.0"
      ]
     },
     "execution_count": 16,
     "metadata": {},
     "output_type": "execute_result"
    }
   ],
   "source": [
    "com.real"
   ]
  },
  {
   "cell_type": "code",
   "execution_count": 17,
   "id": "2e88bb66-6326-4d84-969f-25c1307ce3ba",
   "metadata": {},
   "outputs": [
    {
     "data": {
      "text/plain": [
       "6.0"
      ]
     },
     "execution_count": 17,
     "metadata": {},
     "output_type": "execute_result"
    }
   ],
   "source": [
    "com.imag"
   ]
  },
  {
   "cell_type": "markdown",
   "id": "e7760515-52de-4dbe-866c-97dfddf47d0a",
   "metadata": {},
   "source": [
    "# Rules of defining Variable.\n",
    "- Variable start with a letter (aplhabet) or underscore character"
   ]
  },
  {
   "cell_type": "code",
   "execution_count": 19,
   "id": "3db44581-b285-419e-ae32-a8e0b050ac6a",
   "metadata": {},
   "outputs": [
    {
     "data": {
      "text/plain": [
       "'Ayush'"
      ]
     },
     "execution_count": 19,
     "metadata": {},
     "output_type": "execute_result"
    }
   ],
   "source": [
    "name=\"Ayush\"\n",
    "name"
   ]
  },
  {
   "cell_type": "code",
   "execution_count": 20,
   "id": "5a45d73d-3ae4-4793-8019-63e61c4edb7f",
   "metadata": {},
   "outputs": [
    {
     "data": {
      "text/plain": [
       "'Noida'"
      ]
     },
     "execution_count": 20,
     "metadata": {},
     "output_type": "execute_result"
    }
   ],
   "source": [
    "location=\"Noida\"\n",
    "location"
   ]
  },
  {
   "cell_type": "code",
   "execution_count": 21,
   "id": "2db56ac5-bddf-4370-91ca-746bbe1837d7",
   "metadata": {},
   "outputs": [
    {
     "name": "stdout",
     "output_type": "stream",
     "text": [
      "Rahul\n"
     ]
    }
   ],
   "source": [
    "_name=\"Rahul\"\n",
    "print(_name)"
   ]
  },
  {
   "cell_type": "markdown",
   "id": "e7130736-4f94-4fce-b4fb-aee2df24ff62",
   "metadata": {},
   "source": [
    "## Comments\n",
    "- '#' Single Line Comment.\n",
    "- (''' ''') Multline comment\n",
    "- usefull in explaning code "
   ]
  },
  {
   "cell_type": "markdown",
   "id": "730f3321-d988-499b-8500-8fee1df27e14",
   "metadata": {},
   "source": [
    "## Keyword-\n",
    "- Predefined words that hold specal meaning and have specific purpose\n",
    "- For example print, type,id, for, while etc"
   ]
  },
  {
   "cell_type": "code",
   "execution_count": 23,
   "id": "a0529a4f-5e00-4884-9b3c-4316d3db4e51",
   "metadata": {},
   "outputs": [
    {
     "name": "stdout",
     "output_type": "stream",
     "text": [
      "\n",
      "Here is a list of the Python keywords.  Enter any keyword to get more help.\n",
      "\n",
      "False               class               from                or\n",
      "None                continue            global              pass\n",
      "True                def                 if                  raise\n",
      "and                 del                 import              return\n",
      "as                  elif                in                  try\n",
      "assert              else                is                  while\n",
      "async               except              lambda              with\n",
      "await               finally             nonlocal            yield\n",
      "break               for                 not                 \n",
      "\n"
     ]
    }
   ],
   "source": [
    "help('keywords')"
   ]
  },
  {
   "cell_type": "code",
   "execution_count": 24,
   "id": "a019d2d9-a7e4-4366-9d90-1b9d758f4b3b",
   "metadata": {},
   "outputs": [
    {
     "data": {
      "text/plain": [
       "3"
      ]
     },
     "execution_count": 24,
     "metadata": {},
     "output_type": "execute_result"
    }
   ],
   "source": [
    "a=3 # it is a statment nothing else -> fundamental block of code\n",
    "a"
   ]
  },
  {
   "cell_type": "markdown",
   "id": "d5f06e93-f905-43db-8d58-7418280f3e92",
   "metadata": {},
   "source": [
    "# Statement->\n",
    "- It can be of many type such as\n",
    "- 1. Expression\n",
    "  2. Assignment\n",
    "  3. Condition\n",
    "  4. Loop"
   ]
  },
  {
   "cell_type": "code",
   "execution_count": 25,
   "id": "635f39d8-de75-40f8-9c57-e84b4338cad0",
   "metadata": {},
   "outputs": [
    {
     "name": "stdout",
     "output_type": "stream",
     "text": [
      "10\n"
     ]
    }
   ],
   "source": [
    "a=4 #Assignment statment\n",
    "b=6 #Assignment statment\n",
    "c=a+b #expression Statment\n",
    "print(c)"
   ]
  },
  {
   "cell_type": "markdown",
   "id": "365050a6-f2fa-4ab7-b918-5186ec11b7bd",
   "metadata": {},
   "source": [
    "# Input\n"
   ]
  },
  {
   "cell_type": "code",
   "execution_count": 26,
   "id": "7700ff36-8678-4b8f-9ab9-5447eee6b360",
   "metadata": {},
   "outputs": [
    {
     "name": "stdin",
     "output_type": "stream",
     "text": [
      "Enter your name Ayush\n"
     ]
    }
   ],
   "source": [
    "name=input(\"Enter your name\")"
   ]
  },
  {
   "cell_type": "code",
   "execution_count": 27,
   "id": "92bdc0a7-5973-4c68-bd94-f322b45a1bcb",
   "metadata": {},
   "outputs": [
    {
     "data": {
      "text/plain": [
       "'Ayush'"
      ]
     },
     "execution_count": 27,
     "metadata": {},
     "output_type": "execute_result"
    }
   ],
   "source": [
    "name"
   ]
  },
  {
   "cell_type": "markdown",
   "id": "9ddc0541-9c34-4660-ad37-4f5b43ef2042",
   "metadata": {},
   "source": [
    "# Type Casting"
   ]
  },
  {
   "cell_type": "code",
   "execution_count": 28,
   "id": "fd17bdfc-c9f6-4ccc-9163-2747c32c4687",
   "metadata": {},
   "outputs": [
    {
     "name": "stdin",
     "output_type": "stream",
     "text": [
      "Enter the number:  4\n"
     ]
    }
   ],
   "source": [
    "a=int(input(\"Enter the number: \"))"
   ]
  },
  {
   "cell_type": "code",
   "execution_count": 29,
   "id": "10088d4e-1960-4429-9582-a6eb57ca0ae9",
   "metadata": {},
   "outputs": [
    {
     "data": {
      "text/plain": [
       "4"
      ]
     },
     "execution_count": 29,
     "metadata": {},
     "output_type": "execute_result"
    }
   ],
   "source": [
    "a"
   ]
  },
  {
   "cell_type": "code",
   "execution_count": 30,
   "id": "9bcadc38-3961-456e-be8e-f04eed703a67",
   "metadata": {},
   "outputs": [],
   "source": [
    "a=10\n"
   ]
  },
  {
   "cell_type": "code",
   "execution_count": 31,
   "id": "145dacf6-16a5-4643-bd24-8ab20fca6258",
   "metadata": {},
   "outputs": [
    {
     "data": {
      "text/plain": [
       "'10'"
      ]
     },
     "execution_count": 31,
     "metadata": {},
     "output_type": "execute_result"
    }
   ],
   "source": [
    "str(a)"
   ]
  },
  {
   "cell_type": "code",
   "execution_count": 32,
   "id": "86834e1f-e84c-42e6-ac0f-6bb3ea19ee6d",
   "metadata": {},
   "outputs": [
    {
     "data": {
      "text/plain": [
       "False"
      ]
     },
     "execution_count": 32,
     "metadata": {},
     "output_type": "execute_result"
    }
   ],
   "source": [
    "bool(0)"
   ]
  },
  {
   "cell_type": "code",
   "execution_count": 33,
   "id": "07c85d5e-94bf-4bf3-a3f7-d081469944b6",
   "metadata": {},
   "outputs": [
    {
     "data": {
      "text/plain": [
       "1"
      ]
     },
     "execution_count": 33,
     "metadata": {},
     "output_type": "execute_result"
    }
   ],
   "source": [
    "int(True)"
   ]
  },
  {
   "cell_type": "markdown",
   "id": "4bdb6024-5fc4-4865-add1-6de6b434bdab",
   "metadata": {},
   "source": [
    "# Python is case senstive language"
   ]
  },
  {
   "cell_type": "code",
   "execution_count": 34,
   "id": "c5f4bd17-7fcd-4bf5-87f9-4527c32b0c45",
   "metadata": {},
   "outputs": [],
   "source": [
    "a=5\n",
    "A=15"
   ]
  },
  {
   "cell_type": "code",
   "execution_count": 35,
   "id": "b8cd1f47-a861-44d3-b859-c33b689bdc4e",
   "metadata": {},
   "outputs": [
    {
     "name": "stdout",
     "output_type": "stream",
     "text": [
      "5\n"
     ]
    }
   ],
   "source": [
    "print(a)"
   ]
  },
  {
   "cell_type": "code",
   "execution_count": 36,
   "id": "c3f948e6-b3b5-4b92-a39e-1e7ae163e77c",
   "metadata": {},
   "outputs": [
    {
     "name": "stdout",
     "output_type": "stream",
     "text": [
      "15\n"
     ]
    }
   ],
   "source": [
    "print(A)"
   ]
  },
  {
   "cell_type": "code",
   "execution_count": null,
   "id": "63a56873-9167-4419-9450-2d9ebefee72d",
   "metadata": {},
   "outputs": [],
   "source": []
  }
 ],
 "metadata": {
  "kernelspec": {
   "display_name": "Python 3 (ipykernel)",
   "language": "python",
   "name": "python3"
  },
  "language_info": {
   "codemirror_mode": {
    "name": "ipython",
    "version": 3
   },
   "file_extension": ".py",
   "mimetype": "text/x-python",
   "name": "python",
   "nbconvert_exporter": "python",
   "pygments_lexer": "ipython3",
   "version": "3.12.7"
  }
 },
 "nbformat": 4,
 "nbformat_minor": 5
}
