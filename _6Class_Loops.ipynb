{
 "cells": [
  {
   "cell_type": "markdown",
   "id": "4210cfbc-1192-4998-8568-6f739165843a",
   "metadata": {},
   "source": [
    "# Loop Statment-:\n",
    "- It allows you to execute a block of code repeardely.\n",
    "- It is of two types\n",
    "- 1. For Loop\n",
    "  2. While Loop"
   ]
  },
  {
   "cell_type": "markdown",
   "id": "3ebdd60e-442c-4bf1-a8b8-e126add05b4f",
   "metadata": {},
   "source": [
    "# While Loop\n",
    "- Repeatdely executed a block of code until condition is met"
   ]
  },
  {
   "cell_type": "code",
   "execution_count": 1,
   "id": "6de25864-52ff-4993-b4a2-5278101b0eb7",
   "metadata": {},
   "outputs": [
    {
     "name": "stdout",
     "output_type": "stream",
     "text": [
      "1\n",
      "2\n",
      "3\n",
      "4\n",
      "5\n",
      "6\n"
     ]
    }
   ],
   "source": [
    "n=7\n",
    "i=1\n",
    "while i<n:\n",
    "    print(i)\n",
    "    i=i+1"
   ]
  },
  {
   "cell_type": "code",
   "execution_count": 2,
   "id": "57de5538-022b-49a5-b646-0f9d24020eac",
   "metadata": {},
   "outputs": [
    {
     "name": "stdout",
     "output_type": "stream",
     "text": [
      "5\n",
      "4\n",
      "3\n",
      "2\n",
      "1\n"
     ]
    }
   ],
   "source": [
    "count=5\n",
    "while count>0:\n",
    "    print(count)\n",
    "    count=count-1"
   ]
  },
  {
   "cell_type": "code",
   "execution_count": 3,
   "id": "596e0473-6af2-41e4-ae4a-c61b1978905a",
   "metadata": {},
   "outputs": [
    {
     "name": "stdout",
     "output_type": "stream",
     "text": [
      "2 X 1 = 2\n",
      "2 X 2 = 4\n",
      "2 X 3 = 6\n",
      "2 X 4 = 8\n",
      "2 X 5 = 10\n",
      "2 X 6 = 12\n",
      "2 X 7 = 14\n",
      "2 X 8 = 16\n",
      "2 X 9 = 18\n",
      "2 X 10 = 20\n"
     ]
    }
   ],
   "source": [
    "number=1\n",
    "n=2\n",
    "while number<=10:\n",
    "    print(\"2 X\",number,\"=\", n*number)\n",
    "    number+=1"
   ]
  },
  {
   "cell_type": "code",
   "execution_count": 4,
   "id": "aa656e84-7146-4f6a-9db8-77b729ab5c83",
   "metadata": {},
   "outputs": [
    {
     "name": "stdout",
     "output_type": "stream",
     "text": [
      "120\n"
     ]
    }
   ],
   "source": [
    "n=5\n",
    "fact=1\n",
    "for i in range(1,n+1):\n",
    "    fact=fact*i\n",
    "print(fact)"
   ]
  },
  {
   "cell_type": "code",
   "execution_count": 5,
   "id": "cd65d8a6-2e10-4eaf-8349-a9ec1526f83a",
   "metadata": {},
   "outputs": [
    {
     "name": "stdout",
     "output_type": "stream",
     "text": [
      "120\n"
     ]
    }
   ],
   "source": [
    "n=5\n",
    "fact=1\n",
    "i=1\n",
    "while n>=i:\n",
    "    fact=fact*i\n",
    "    i=i+1\n",
    "print(fact)"
   ]
  },
  {
   "cell_type": "markdown",
   "id": "bcc942e0-5134-40c1-a884-ff596cbb15ef",
   "metadata": {},
   "source": [
    "# Break-\n",
    "- Break terminates or exits the loop"
   ]
  },
  {
   "cell_type": "code",
   "execution_count": 6,
   "id": "260de334-2e65-4b20-89eb-445737c7763f",
   "metadata": {},
   "outputs": [
    {
     "name": "stdout",
     "output_type": "stream",
     "text": [
      "24\n"
     ]
    }
   ],
   "source": [
    "n=5\n",
    "f=1\n",
    "i=1\n",
    "while i<=n:\n",
    "    f=f*i\n",
    "    i+=1\n",
    "    if i==5:\n",
    "        break\n",
    "print(f)"
   ]
  },
  {
   "cell_type": "code",
   "execution_count": 7,
   "id": "13f2470d-54c2-43ad-a807-775c90e6d30f",
   "metadata": {},
   "outputs": [
    {
     "name": "stdout",
     "output_type": "stream",
     "text": [
      "1\n",
      "2\n",
      "3\n",
      "4\n"
     ]
    }
   ],
   "source": [
    "n=7\n",
    "i=1\n",
    "while i<n:\n",
    "    print(i)\n",
    "    i=i+1\n",
    "    if i==5:\n",
    "        break"
   ]
  },
  {
   "cell_type": "markdown",
   "id": "f9ebfb04-9148-41fd-bb8e-194efd59f86c",
   "metadata": {},
   "source": [
    "# Continue\n",
    "- Skip the iterations"
   ]
  },
  {
   "cell_type": "code",
   "execution_count": 8,
   "id": "454f63b6-f2db-4f94-9fb4-550c46d93655",
   "metadata": {},
   "outputs": [
    {
     "name": "stdout",
     "output_type": "stream",
     "text": [
      "2\n",
      "3\n",
      "4\n",
      "6\n",
      "7\n"
     ]
    }
   ],
   "source": [
    "n=7\n",
    "i=1\n",
    "while i<n:\n",
    "    i=i+1\n",
    "    if i==5:\n",
    "        continue\n",
    "    print(i)"
   ]
  },
  {
   "cell_type": "markdown",
   "id": "086b0407-ee7a-4471-9c31-f4cc2e8179ea",
   "metadata": {},
   "source": [
    "# For loop\n",
    "- Iterate over a sequence of elements"
   ]
  },
  {
   "cell_type": "code",
   "execution_count": 9,
   "id": "8695e86b-d5e9-4a14-888e-49381fce32d0",
   "metadata": {},
   "outputs": [
    {
     "name": "stdout",
     "output_type": "stream",
     "text": [
      "p\n",
      "w\n",
      "s\n",
      "k\n",
      "i\n",
      "l\n",
      "l\n",
      "s\n"
     ]
    }
   ],
   "source": [
    "for i in \"pwskills\":\n",
    "    print(i)"
   ]
  },
  {
   "cell_type": "code",
   "execution_count": 10,
   "id": "5342a059-b9ac-4b77-81f0-40f2eade760a",
   "metadata": {},
   "outputs": [
    {
     "name": "stdout",
     "output_type": "stream",
     "text": [
      "p\n",
      "w\n",
      "s\n",
      "k\n",
      "i\n",
      "l\n",
      "l\n",
      "s\n"
     ]
    }
   ],
   "source": [
    "a='pwskills'\n",
    "for i in a:\n",
    "    print(i)"
   ]
  },
  {
   "cell_type": "code",
   "execution_count": 11,
   "id": "90dfabf0-c0db-4589-b92d-bcf26fa9e1a2",
   "metadata": {},
   "outputs": [
    {
     "name": "stdout",
     "output_type": "stream",
     "text": [
      "5\n"
     ]
    }
   ],
   "source": [
    "a='Ayush'\n",
    "count=0\n",
    "for i in a:\n",
    "    count+=1\n",
    "print(count)"
   ]
  },
  {
   "cell_type": "code",
   "execution_count": 12,
   "id": "1266e900-db4a-4c93-baba-ae821ade23e0",
   "metadata": {},
   "outputs": [
    {
     "name": "stdout",
     "output_type": "stream",
     "text": [
      "1\n",
      "2\n",
      "3\n",
      "4\n",
      "5\n"
     ]
    }
   ],
   "source": [
    "l=[1,2,3,4,5]\n",
    "for i in l:\n",
    "    print(i)"
   ]
  },
  {
   "cell_type": "code",
   "execution_count": 13,
   "id": "74678d2f-3467-4c95-aedf-9074783d6fff",
   "metadata": {},
   "outputs": [
    {
     "name": "stdout",
     "output_type": "stream",
     "text": [
      "1\n",
      "2\n",
      "3\n"
     ]
    }
   ],
   "source": [
    "l=[1,2,3,'ayush','saxena']\n",
    "for i in l:\n",
    "    if i=='ayush':\n",
    "        break\n",
    "    print(i)"
   ]
  },
  {
   "cell_type": "code",
   "execution_count": 14,
   "id": "974cb354-8294-43ae-8246-ea27e4cf5736",
   "metadata": {},
   "outputs": [
    {
     "name": "stdout",
     "output_type": "stream",
     "text": [
      "1\n",
      "2\n",
      "3\n",
      "saxena\n"
     ]
    }
   ],
   "source": [
    "l=[1,2,3,'ayush','saxena']\n",
    "for i in l:\n",
    "    if i=='ayush':\n",
    "        continue\n",
    "    print(i)"
   ]
  },
  {
   "cell_type": "code",
   "execution_count": 15,
   "id": "4b810f85-350d-477f-a27a-d3d252d23bde",
   "metadata": {},
   "outputs": [
    {
     "name": "stdout",
     "output_type": "stream",
     "text": [
      "1\n",
      "2\n",
      "3\n",
      "4\n",
      "5\n",
      "6\n",
      "7\n",
      "8\n",
      "9\n"
     ]
    }
   ],
   "source": [
    "for i in range(1,10):\n",
    "    print(i)"
   ]
  },
  {
   "cell_type": "code",
   "execution_count": 16,
   "id": "f49a4625-e94b-44b5-bd1f-b0e534e1ad1f",
   "metadata": {},
   "outputs": [
    {
     "data": {
      "text/plain": [
       "[0, 1, 2, 3, 4, 5, 6, 7, 8, 9]"
      ]
     },
     "execution_count": 16,
     "metadata": {},
     "output_type": "execute_result"
    }
   ],
   "source": [
    "list(range(0,10))"
   ]
  },
  {
   "cell_type": "code",
   "execution_count": 17,
   "id": "1b51833f-8624-4ab7-a96d-cc16b19c1eb8",
   "metadata": {},
   "outputs": [
    {
     "name": "stdout",
     "output_type": "stream",
     "text": [
      "1 2 3 4 5 6 7 8 9 "
     ]
    }
   ],
   "source": [
    "for i in range(1,10):\n",
    "    print(i,end=\" \")"
   ]
  },
  {
   "cell_type": "code",
   "execution_count": 18,
   "id": "69ee511a-8053-48d6-9f5a-65a2f404e243",
   "metadata": {},
   "outputs": [
    {
     "name": "stdout",
     "output_type": "stream",
     "text": [
      "1\n",
      "3\n",
      "5\n",
      "7\n",
      "9\n"
     ]
    }
   ],
   "source": [
    "for i in range(1,11,2):\n",
    "    print(i)"
   ]
  },
  {
   "cell_type": "markdown",
   "id": "d3528142-ed9e-4536-8a4b-fb083c5fae8a",
   "metadata": {},
   "source": [
    "# Problem Statment"
   ]
  },
  {
   "cell_type": "code",
   "execution_count": 19,
   "id": "618a56ea-32d7-4cd1-8a15-d8d9abca9ca9",
   "metadata": {},
   "outputs": [
    {
     "name": "stdout",
     "output_type": "stream",
     "text": [
      "*\n",
      "**\n",
      "***\n",
      "****\n"
     ]
    }
   ],
   "source": [
    "'''\n",
    "*\n",
    "**\n",
    "***\n",
    "****\n",
    "'''\n",
    "r=1\n",
    "while r<=4:\n",
    "    col=1\n",
    "    while col<=r:\n",
    "        print(\"*\",end=\"\")\n",
    "        col+=1\n",
    "    print()\n",
    "    r+=1\n"
   ]
  },
  {
   "cell_type": "code",
   "execution_count": 21,
   "id": "9b01fadd-f023-4c44-96e8-ded7fb460cc2",
   "metadata": {},
   "outputs": [
    {
     "name": "stdout",
     "output_type": "stream",
     "text": [
      "*\n",
      "**\n",
      "***\n",
      "****\n"
     ]
    }
   ],
   "source": [
    "for i in range(4):\n",
    "    for j in range(i+1):\n",
    "        print(\"*\",end=\"\")\n",
    "    print()"
   ]
  },
  {
   "cell_type": "code",
   "execution_count": 26,
   "id": "d45c2cc0-477e-4e59-83c6-7ed88d91e930",
   "metadata": {},
   "outputs": [
    {
     "name": "stdout",
     "output_type": "stream",
     "text": [
      "*\n",
      "**\n",
      "***\n",
      "****\n"
     ]
    }
   ],
   "source": [
    "for i in range(4):\n",
    "    for j in range(i+1):\n",
    "        print(\"*\",end=\"\")\n",
    "    print()"
   ]
  },
  {
   "cell_type": "markdown",
   "id": "4e60b105-72d4-4c13-87d1-4f0610832994",
   "metadata": {},
   "source": [
    "# Print Even number"
   ]
  },
  {
   "cell_type": "code",
   "execution_count": 27,
   "id": "6cd419b0-73a8-48b5-a651-2aafb73cf987",
   "metadata": {},
   "outputs": [
    {
     "name": "stdout",
     "output_type": "stream",
     "text": [
      "0\n",
      "2\n",
      "4\n",
      "6\n",
      "8\n"
     ]
    }
   ],
   "source": [
    "for i in range(10):\n",
    "    if i%2==0:\n",
    "        print(i)"
   ]
  },
  {
   "cell_type": "code",
   "execution_count": 28,
   "id": "690bea3c-cc8f-4d1a-8005-8745459259a2",
   "metadata": {},
   "outputs": [
    {
     "name": "stdout",
     "output_type": "stream",
     "text": [
      "0\n",
      "2\n",
      "4\n",
      "6\n",
      "8\n"
     ]
    }
   ],
   "source": [
    "for i in range(10):\n",
    "    if i%2!=0:\n",
    "        continue\n",
    "    print(i)"
   ]
  },
  {
   "cell_type": "code",
   "execution_count": 29,
   "id": "667dbb9f-3c76-4a25-921f-b0d46d46ed73",
   "metadata": {},
   "outputs": [
    {
     "name": "stdout",
     "output_type": "stream",
     "text": [
      "1 *1 =1\n",
      "1 *2 =2\n",
      "1 *3 =3\n",
      "1 *4 =4\n",
      "1 *5 =5\n",
      "1 *6 =6\n",
      "1 *7 =7\n",
      "1 *8 =8\n",
      "1 *9 =9\n",
      "1 *10 =10\n",
      "\n",
      "2 *1 =2\n",
      "2 *2 =4\n",
      "2 *3 =6\n",
      "2 *4 =8\n",
      "2 *5 =10\n",
      "2 *6 =12\n",
      "2 *7 =14\n",
      "2 *8 =16\n",
      "2 *9 =18\n",
      "2 *10 =20\n",
      "\n",
      "3 *1 =3\n",
      "3 *2 =6\n",
      "3 *3 =9\n",
      "3 *4 =12\n",
      "3 *5 =15\n",
      "3 *6 =18\n",
      "3 *7 =21\n",
      "3 *8 =24\n",
      "3 *9 =27\n",
      "3 *10 =30\n",
      "\n",
      "4 *1 =4\n",
      "4 *2 =8\n",
      "4 *3 =12\n",
      "4 *4 =16\n",
      "4 *5 =20\n",
      "4 *6 =24\n",
      "4 *7 =28\n",
      "4 *8 =32\n",
      "4 *9 =36\n",
      "4 *10 =40\n",
      "\n",
      "5 *1 =5\n",
      "5 *2 =10\n",
      "5 *3 =15\n",
      "5 *4 =20\n",
      "5 *5 =25\n",
      "5 *6 =30\n",
      "5 *7 =35\n",
      "5 *8 =40\n",
      "5 *9 =45\n",
      "5 *10 =50\n",
      "\n"
     ]
    }
   ],
   "source": [
    "for i in range(1,6):\n",
    "    for j in range(1,11):\n",
    "        product=i*j\n",
    "        print(f\"{i} *{j} ={product}\")\n",
    "    print()"
   ]
  },
  {
   "cell_type": "code",
   "execution_count": null,
   "id": "85998749-0b27-4b9a-bb53-414d091b3df3",
   "metadata": {},
   "outputs": [],
   "source": []
  }
 ],
 "metadata": {
  "kernelspec": {
   "display_name": "Python 3 (ipykernel)",
   "language": "python",
   "name": "python3"
  },
  "language_info": {
   "codemirror_mode": {
    "name": "ipython",
    "version": 3
   },
   "file_extension": ".py",
   "mimetype": "text/x-python",
   "name": "python",
   "nbconvert_exporter": "python",
   "pygments_lexer": "ipython3",
   "version": "3.12.7"
  }
 },
 "nbformat": 4,
 "nbformat_minor": 5
}
