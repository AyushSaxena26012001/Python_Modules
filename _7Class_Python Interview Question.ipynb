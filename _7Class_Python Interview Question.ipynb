{
 "cells": [
  {
   "cell_type": "markdown",
   "id": "21ec6369-fd25-4d3c-80d5-c094ffb8e65a",
   "metadata": {},
   "source": [
    "# Q1 What are Python’s built-in data types?\n",
    "- In built data types in python are int, float, Bool, String, complex"
   ]
  },
  {
   "cell_type": "markdown",
   "id": "885270a6-e05b-45ca-b2b2-7e203a522898",
   "metadata": {},
   "source": [
    "# Q2 Why Python is used extensively in Data Science?\n",
    "- Because of simple and Readable syntax, vast libraries, Integration and flexibility."
   ]
  },
  {
   "cell_type": "markdown",
   "id": "882eeca5-7377-4440-9f91-b059665ad642",
   "metadata": {},
   "source": [
    "# Q3 Explain the difference between lists and tuples in Python.\n",
    "- List in python are mutuable and homogenous in nature representd by []\n",
    "- Tuple in python are immutable and homogenous in nature and represented by ()"
   ]
  },
  {
   "cell_type": "markdown",
   "id": "2e58343e-08dc-4cc8-9708-3625e29d62b7",
   "metadata": {},
   "source": [
    "# Q4 What are Python’s predefined keywords and their uses?\n",
    "- Python have many predefined keyword such as type, if, for while and they have thiere respective use."
   ]
  },
  {
   "cell_type": "markdown",
   "id": "6b68b5ef-6a09-4295-b517-a73db9f0c973",
   "metadata": {},
   "source": [
    "# Q5 How does Python handle mutability and immutability?\n",
    "- Python handles mutability by allowing mutable objects (like lists, dicts) to be changed in place, while immutable objects (like ints, strings, tuples) cannot be changed after creation."
   ]
  },
  {
   "cell_type": "markdown",
   "id": "2659530f-e5a7-4dcb-ab56-d77a3938134e",
   "metadata": {},
   "source": [
    "# Q6 What is the significance of mutability in Python data structures?\n",
    "- Mutability determines whether a data structure can be modified in place, affecting behavior in functions, memory usage, and data integrity.\n"
   ]
  },
  {
   "cell_type": "markdown",
   "id": "d3366adf-69f5-4c7b-948d-2767ebe8d87d",
   "metadata": {},
   "source": [
    "# Q7 Explain different types of operators in Python\n",
    "- Airthmetic\n",
    "- Logical\n",
    "- Comparision\n",
    "- Bitwise\n",
    "- Membership\n",
    "- Identity"
   ]
  },
  {
   "cell_type": "markdown",
   "id": "2e59855f-b9a2-4512-9982-0d6f065e48bb",
   "metadata": {},
   "source": [
    "# Q8 How do you perform type casting in Python? 1"
   ]
  },
  {
   "cell_type": "code",
   "execution_count": 2,
   "id": "a247b1b9-7ed1-41e4-a1cc-9d7229b4816f",
   "metadata": {},
   "outputs": [
    {
     "name": "stdout",
     "output_type": "stream",
     "text": [
      "<class 'int'>\n",
      "10.0\n"
     ]
    }
   ],
   "source": [
    "a=10\n",
    "print(type(a))\n",
    "print(float(a))\n"
   ]
  },
  {
   "cell_type": "markdown",
   "id": "3796f19a-b99e-462d-b960-5ce5173b788d",
   "metadata": {},
   "source": [
    "# Q9 Explain the difference between implicit and explicit type casting in Python.\n",
    "- Implict-> Python Understand the datatype\n",
    "- Explicit-> changing the type of data by using inbuilt data type."
   ]
  },
  {
   "cell_type": "markdown",
   "id": "9a5bcaae-842f-419f-8994-fc7f35023473",
   "metadata": {},
   "source": [
    "# Q10 What is the significance of conditionals in Python?\n",
    "- Conditionals in Python control the flow of execution by allowing the program to make decisions based on whether a condition is true or false."
   ]
  },
  {
   "cell_type": "markdown",
   "id": "4de165f6-5980-47b6-936d-2b48cf0c7f5d",
   "metadata": {},
   "source": [
    "# Q11 How would you implement a switch-case statement in Python"
   ]
  },
  {
   "cell_type": "code",
   "execution_count": 3,
   "id": "b74417d1-9e36-4a30-b108-95f9e778252e",
   "metadata": {},
   "outputs": [
    {
     "name": "stdout",
     "output_type": "stream",
     "text": [
      "Two\n"
     ]
    }
   ],
   "source": [
    "def switch_case(value):\n",
    "    if value == 1:\n",
    "        return \"One\"\n",
    "    elif value == 2:\n",
    "        return \"Two\"\n",
    "    elif value == 3:\n",
    "        return \"Three\"\n",
    "    else:\n",
    "        return \"Invalid\"\n",
    "\n",
    "print(switch_case(2))  # Output: Two\n"
   ]
  },
  {
   "cell_type": "markdown",
   "id": "6b9291e7-82a5-4dff-9154-a3a2bccc1c66",
   "metadata": {},
   "source": [
    "# Q12 What are loops in Python? How do you differentiate between for and while loops?\n",
    "- There are two types of loop in python\n",
    "- 1. For Loop\n",
    "  2. While Loop\n",
    "- Difference is as follows-:\n",
    "- for” loops are used for iterating over a sequence of elements, while “while” loops are used for executing code until a specified condition becomes False"
   ]
  },
  {
   "cell_type": "markdown",
   "id": "471f7e2c-26b9-43d0-b05a-f972c10b5e18",
   "metadata": {},
   "source": [
    "# Q13 How do you use break, continue, and pass in Python loops?"
   ]
  },
  {
   "cell_type": "code",
   "execution_count": 4,
   "id": "be7f4888-a441-484c-a443-54bf2b03dc9b",
   "metadata": {},
   "outputs": [
    {
     "name": "stdout",
     "output_type": "stream",
     "text": [
      "24\n"
     ]
    }
   ],
   "source": [
    "n=5\n",
    "f=1\n",
    "i=1\n",
    "while i<=n:\n",
    "    f=f*i\n",
    "    i+=1\n",
    "    if i==5:\n",
    "        break\n",
    "print(f)"
   ]
  },
  {
   "cell_type": "code",
   "execution_count": 5,
   "id": "9cfbbd20-3ea2-4f48-af44-dadfc4d51630",
   "metadata": {},
   "outputs": [
    {
     "name": "stdout",
     "output_type": "stream",
     "text": [
      "1\n",
      "2\n",
      "3\n",
      "4\n"
     ]
    }
   ],
   "source": [
    "n=7\n",
    "i=1\n",
    "while i<n:\n",
    "    print(i)\n",
    "    i=i+1\n",
    "    if i==5:\n",
    "        break"
   ]
  },
  {
   "cell_type": "code",
   "execution_count": 6,
   "id": "aa25e8f4-cb02-47dd-ae35-3abec255887e",
   "metadata": {},
   "outputs": [
    {
     "name": "stdout",
     "output_type": "stream",
     "text": [
      "0\n",
      "1\n",
      "3\n"
     ]
    }
   ],
   "source": [
    "for i in range(5):\n",
    "    if i == 2:\n",
    "        continue    # Skip when i is 2\n",
    "    if i == 4:\n",
    "        break       # Exit loop when i is 4\n",
    "    pass            # Placeholder, no effect\n",
    "    print(i)\n"
   ]
  },
  {
   "cell_type": "code",
   "execution_count": null,
   "id": "db031ba3-00af-4676-8f95-11a8d393a86e",
   "metadata": {},
   "outputs": [],
   "source": []
  }
 ],
 "metadata": {
  "kernelspec": {
   "display_name": "Python 3 (ipykernel)",
   "language": "python",
   "name": "python3"
  },
  "language_info": {
   "codemirror_mode": {
    "name": "ipython",
    "version": 3
   },
   "file_extension": ".py",
   "mimetype": "text/x-python",
   "name": "python",
   "nbconvert_exporter": "python",
   "pygments_lexer": "ipython3",
   "version": "3.12.7"
  }
 },
 "nbformat": 4,
 "nbformat_minor": 5
}
